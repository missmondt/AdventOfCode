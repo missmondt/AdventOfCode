{
 "cells": [
  {
   "cell_type": "code",
   "execution_count": 7,
   "id": "1c0b6a84",
   "metadata": {},
   "outputs": [],
   "source": [
    "#read file and strip /n\n",
    "input = open('input.txt', 'r')\n",
    "lines = input.readlines()\n",
    "lines_stripped = [line.strip() for line in lines]"
   ]
  },
  {
   "cell_type": "code",
   "execution_count": 8,
   "id": "4d6bf408",
   "metadata": {},
   "outputs": [],
   "source": [
    "#split lines into list of lists and convert to dictionary\n",
    "list_splitted = []\n",
    "for line in lines_stripped:\n",
    "    split_line = line.split()\n",
    "    list_splitted.append(split_line)\n",
    "\n",
    "dict1 = dict(list_splitted)"
   ]
  },
  {
   "cell_type": "code",
   "execution_count": 9,
   "id": "d716178f",
   "metadata": {},
   "outputs": [],
   "source": [
    "#divide dictionary into two lists\n",
    "list1 = dict1.keys()\n",
    "list2 = dict1.values()"
   ]
  },
  {
   "cell_type": "code",
   "execution_count": 10,
   "id": "1caa07a3",
   "metadata": {},
   "outputs": [],
   "source": [
    "#sort both lists\n",
    "list1_sorted = sorted(list1)\n",
    "list2_sorted = sorted(list2)"
   ]
  },
  {
   "cell_type": "code",
   "execution_count": 11,
   "id": "23ba8ba8",
   "metadata": {},
   "outputs": [],
   "source": [
    "#calculate absolute differences between corresponding elements in the two lists\n",
    "difflist = []\n",
    "diff = 0\n",
    "num = 0\n",
    "for i in list1_sorted:\n",
    "    j = list2_sorted[num]\n",
    "    diff = int(j) - int(i)\n",
    "    difflist.append(abs(diff))\n",
    "    num = num + 1"
   ]
  },
  {
   "cell_type": "code",
   "execution_count": 12,
   "id": "2ce94e80",
   "metadata": {},
   "outputs": [
    {
     "data": {
      "text/plain": [
       "1651298"
      ]
     },
     "execution_count": 12,
     "metadata": {},
     "output_type": "execute_result"
    }
   ],
   "source": [
    "#sum the differences\n",
    "total = 0\n",
    "for i in difflist:\n",
    "    total = i + total\n",
    "total"
   ]
  }
 ],
 "metadata": {
  "kernelspec": {
   "display_name": "Python 3",
   "language": "python",
   "name": "python3"
  },
  "language_info": {
   "codemirror_mode": {
    "name": "ipython",
    "version": 3
   },
   "file_extension": ".py",
   "mimetype": "text/x-python",
   "name": "python",
   "nbconvert_exporter": "python",
   "pygments_lexer": "ipython3",
   "version": "3.13.7"
  }
 },
 "nbformat": 4,
 "nbformat_minor": 5
}
