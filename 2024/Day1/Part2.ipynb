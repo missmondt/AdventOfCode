{
 "cells": [
  {
   "cell_type": "code",
   "execution_count": 2,
   "id": "5542fe98",
   "metadata": {},
   "outputs": [],
   "source": [
    "#read file and strip /n\n",
    "input = open('input.txt', 'r')\n",
    "lines = input.readlines()\n",
    "lines_stripped = [line.strip() for line in lines]"
   ]
  },
  {
   "cell_type": "code",
   "execution_count": 3,
   "id": "75b742c6",
   "metadata": {},
   "outputs": [],
   "source": [
    "#split lines into list of lists and convert to dictionary\n",
    "list_splitted = []\n",
    "for line in lines_stripped:\n",
    "    split_line = line.split()\n",
    "    list_splitted.append(split_line)\n",
    "\n",
    "dict1 = dict(list_splitted)\n",
    "\n",
    "#divide dictionary into two lists\n",
    "list1 = dict1.keys()\n",
    "list2 = dict1.values()"
   ]
  },
  {
   "cell_type": "code",
   "execution_count": 6,
   "id": "86611553",
   "metadata": {},
   "outputs": [
    {
     "data": {
      "text/plain": [
       "21306195"
      ]
     },
     "execution_count": 6,
     "metadata": {},
     "output_type": "execute_result"
    }
   ],
   "source": [
    "count = 0\n",
    "total_score = 0\n",
    "for i in list1:\n",
    "    for j in list2:\n",
    "        if int(i) == int(j):\n",
    "            count = count + 1\n",
    "    score = int(i) * count\n",
    "    count = 0\n",
    "    total_score = total_score + score\n",
    "\n",
    "total_score"
   ]
  }
 ],
 "metadata": {
  "kernelspec": {
   "display_name": "Python 3",
   "language": "python",
   "name": "python3"
  },
  "language_info": {
   "codemirror_mode": {
    "name": "ipython",
    "version": 3
   },
   "file_extension": ".py",
   "mimetype": "text/x-python",
   "name": "python",
   "nbconvert_exporter": "python",
   "pygments_lexer": "ipython3",
   "version": "3.13.7"
  }
 },
 "nbformat": 4,
 "nbformat_minor": 5
}
